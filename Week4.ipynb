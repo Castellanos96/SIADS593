{
 "cells": [
  {
   "cell_type": "markdown",
   "id": "d7958890-7f9d-4b61-8bc5-39bb4fb4e2a4",
   "metadata": {},
   "source": [
    "# Pandas Processing"
   ]
  },
  {
   "cell_type": "code",
   "execution_count": 1,
   "id": "4a213716-dda6-4e3a-96cf-5b2dea7c4d22",
   "metadata": {},
   "outputs": [],
   "source": [
    "import time\n",
    "import numpy as np \n",
    "import pandas as pd\n",
    "import os"
   ]
  },
  {
   "cell_type": "code",
   "execution_count": 2,
   "id": "d76e058e-2a8f-45e7-9c57-fa5c0ea38093",
   "metadata": {},
   "outputs": [],
   "source": [
    "#Fake Data creation: Dataframe with two columns (A,B) of lenght N. \n",
    "np.random.seed(0)\n",
    "N = 1_000_000\n",
    "\n",
    "A_list = np.random.randint(1, 100, N)\n",
    "B_list = np.random.randint(1, 100, N)\n",
    "df = pd.DataFrame({'A': A_list, 'B': B_list})"
   ]
  },
  {
   "cell_type": "code",
   "execution_count": 3,
   "id": "54864f57-4aad-4492-9e73-6ff6699a16cf",
   "metadata": {},
   "outputs": [
    {
     "data": {
      "text/html": [
       "<div>\n",
       "<style scoped>\n",
       "    .dataframe tbody tr th:only-of-type {\n",
       "        vertical-align: middle;\n",
       "    }\n",
       "\n",
       "    .dataframe tbody tr th {\n",
       "        vertical-align: top;\n",
       "    }\n",
       "\n",
       "    .dataframe thead th {\n",
       "        text-align: right;\n",
       "    }\n",
       "</style>\n",
       "<table border=\"1\" class=\"dataframe\">\n",
       "  <thead>\n",
       "    <tr style=\"text-align: right;\">\n",
       "      <th></th>\n",
       "      <th>A</th>\n",
       "      <th>B</th>\n",
       "    </tr>\n",
       "  </thead>\n",
       "  <tbody>\n",
       "    <tr>\n",
       "      <th>0</th>\n",
       "      <td>45</td>\n",
       "      <td>90</td>\n",
       "    </tr>\n",
       "    <tr>\n",
       "      <th>1</th>\n",
       "      <td>48</td>\n",
       "      <td>91</td>\n",
       "    </tr>\n",
       "    <tr>\n",
       "      <th>2</th>\n",
       "      <td>65</td>\n",
       "      <td>70</td>\n",
       "    </tr>\n",
       "    <tr>\n",
       "      <th>3</th>\n",
       "      <td>68</td>\n",
       "      <td>91</td>\n",
       "    </tr>\n",
       "    <tr>\n",
       "      <th>4</th>\n",
       "      <td>68</td>\n",
       "      <td>87</td>\n",
       "    </tr>\n",
       "    <tr>\n",
       "      <th>...</th>\n",
       "      <td>...</td>\n",
       "      <td>...</td>\n",
       "    </tr>\n",
       "    <tr>\n",
       "      <th>999995</th>\n",
       "      <td>70</td>\n",
       "      <td>87</td>\n",
       "    </tr>\n",
       "    <tr>\n",
       "      <th>999996</th>\n",
       "      <td>41</td>\n",
       "      <td>36</td>\n",
       "    </tr>\n",
       "    <tr>\n",
       "      <th>999997</th>\n",
       "      <td>93</td>\n",
       "      <td>99</td>\n",
       "    </tr>\n",
       "    <tr>\n",
       "      <th>999998</th>\n",
       "      <td>62</td>\n",
       "      <td>3</td>\n",
       "    </tr>\n",
       "    <tr>\n",
       "      <th>999999</th>\n",
       "      <td>19</td>\n",
       "      <td>27</td>\n",
       "    </tr>\n",
       "  </tbody>\n",
       "</table>\n",
       "<p>1000000 rows × 2 columns</p>\n",
       "</div>"
      ],
      "text/plain": [
       "         A   B\n",
       "0       45  90\n",
       "1       48  91\n",
       "2       65  70\n",
       "3       68  91\n",
       "4       68  87\n",
       "...     ..  ..\n",
       "999995  70  87\n",
       "999996  41  36\n",
       "999997  93  99\n",
       "999998  62   3\n",
       "999999  19  27\n",
       "\n",
       "[1000000 rows x 2 columns]"
      ]
     },
     "execution_count": 3,
     "metadata": {},
     "output_type": "execute_result"
    }
   ],
   "source": [
    "df"
   ]
  },
  {
   "cell_type": "code",
   "execution_count": 4,
   "id": "da37b11f-7cce-4147-a073-93692f75b8b1",
   "metadata": {},
   "outputs": [],
   "source": [
    "#For the purpose of this demonstration, we will be utilizing a function divide()\n",
    "#In your project, this could be anything from artihmatic to string manipulation\n",
    "def divide(a, b):\n",
    "    if b == 0:\n",
    "        return 0.0\n",
    "    return float(a)/b"
   ]
  },
  {
   "cell_type": "markdown",
   "id": "f43efcbb-5c40-414c-9c0e-43d566675bc8",
   "metadata": {},
   "source": [
    "### Applying our Function\n",
    "On this portion of the notebook, we will cover some common ways to apply a custom function to a dataframe. We will also be saving the time it takes for each implementation to execute and compare. "
   ]
  },
  {
   "cell_type": "code",
   "execution_count": 5,
   "id": "fcd6483a-8b01-41d0-8fe2-a0c950ae1dda",
   "metadata": {},
   "outputs": [],
   "source": [
    "#The first method we will use will be to loop and apply our function to the designated rows. \n",
    "\n",
    "start = time.time() #Begins a timer \n",
    "temp = []\n",
    "for _, row in df[['A', 'B']].iterrows():\n",
    "    temp.append(divide(row['A'], row['B']))\n",
    "df['C'] = temp\n",
    "\n",
    "looping = time.time() - start #Ends the timer-> Will be named differently for every method"
   ]
  },
  {
   "cell_type": "code",
   "execution_count": 6,
   "id": "c1d8cd0b-34df-49af-b5db-46634841fd3e",
   "metadata": {},
   "outputs": [
    {
     "data": {
      "text/plain": [
       "11.083172082901001"
      ]
     },
     "execution_count": 6,
     "metadata": {},
     "output_type": "execute_result"
    }
   ],
   "source": [
    "looping"
   ]
  },
  {
   "cell_type": "code",
   "execution_count": 7,
   "id": "d4b231c8-0936-4740-93f9-930c27cb5719",
   "metadata": {},
   "outputs": [],
   "source": [
    "#We can rewrite our loop as a list comperhension and assign directly to a column instead.\n",
    "#This is a cleaner way to loop, but how much faster is it ? \n",
    "start = time.time()\n",
    "\n",
    "df['C']= [divide(row['A'], row['B']) for _, row in df[['A', 'B']].iterrows()]\n",
    "\n",
    "list_comp = time.time() - start"
   ]
  },
  {
   "cell_type": "code",
   "execution_count": 8,
   "id": "c0f85f3f-5f82-447e-92e0-8fb855d3c1f3",
   "metadata": {},
   "outputs": [
    {
     "data": {
      "text/plain": [
       "(11.083172082901001, 10.7375807762146)"
      ]
     },
     "execution_count": 8,
     "metadata": {},
     "output_type": "execute_result"
    }
   ],
   "source": [
    "looping , list_comp"
   ]
  },
  {
   "cell_type": "code",
   "execution_count": 9,
   "id": "a2d13a59-52bb-484c-8329-eaf07461f467",
   "metadata": {},
   "outputs": [],
   "source": [
    "#Apply Lamda is a very popular method for working with dataframes. \n",
    "#Since it is popular and often recommended, how much faster is it than looping ?\n",
    "start = time.time()\n",
    "\n",
    "df['C']= df.apply(lambda row: divide(row['A'], row['B']), axis=1)  \n",
    "\n",
    "apply = time.time() - start"
   ]
  },
  {
   "cell_type": "code",
   "execution_count": 10,
   "id": "d775d238-7c70-4ae0-94de-ce32750ba1cc",
   "metadata": {},
   "outputs": [
    {
     "data": {
      "text/plain": [
       "2.62471079826355"
      ]
     },
     "execution_count": 10,
     "metadata": {},
     "output_type": "execute_result"
    }
   ],
   "source": [
    "apply"
   ]
  },
  {
   "cell_type": "code",
   "execution_count": 11,
   "id": "eb29f7c6-48cb-4411-bc25-d6e29c7dc92f",
   "metadata": {},
   "outputs": [
    {
     "data": {
      "text/plain": [
       "4.22262600901912"
      ]
     },
     "execution_count": 11,
     "metadata": {},
     "output_type": "execute_result"
    }
   ],
   "source": [
    "looping/apply #In this case, about x4 faster to execute"
   ]
  },
  {
   "cell_type": "markdown",
   "id": "acd3a1f8-c16f-4f28-9c8e-23096a8d59b4",
   "metadata": {},
   "source": [
    "Official Documentation: https://pandas.pydata.org/docs/reference/api/pandas.DataFrame.apply.html"
   ]
  },
  {
   "cell_type": "code",
   "execution_count": 12,
   "id": "4121eda4-9702-41a0-9fd8-3ffe1787ef48",
   "metadata": {},
   "outputs": [],
   "source": [
    "#We have seen before that looping is not the fastest in these application\n",
    "#But if we introduce additional properties to iterate, it can make a dramatic difference\n",
    "start = time.time()\n",
    "\n",
    "df['C']= [divide(a, b) for a, b in df[['A', 'B']].itertuples(index=False)]  \n",
    "\n",
    "list_comp_itertuples = time.time() - start"
   ]
  },
  {
   "cell_type": "code",
   "execution_count": 13,
   "id": "b3d78b1d-a9a8-4f79-964b-1e9f8319212b",
   "metadata": {},
   "outputs": [
    {
     "data": {
      "text/plain": [
       "0.29758501052856445"
      ]
     },
     "execution_count": 13,
     "metadata": {},
     "output_type": "execute_result"
    }
   ],
   "source": [
    "list_comp_itertuples"
   ]
  },
  {
   "cell_type": "code",
   "execution_count": 14,
   "id": "8edf9cda-ee75-4466-8639-f08d8338b504",
   "metadata": {},
   "outputs": [
    {
     "data": {
      "text/plain": [
       "37.24371756230361"
      ]
     },
     "execution_count": 14,
     "metadata": {},
     "output_type": "execute_result"
    }
   ],
   "source": [
    "looping/list_comp_itertuples #Yes an x34 improvement in this case "
   ]
  },
  {
   "cell_type": "code",
   "execution_count": 15,
   "id": "6d99b5aa-f28a-4748-adfd-df419284d6d6",
   "metadata": {},
   "outputs": [],
   "source": [
    "#Now that we have seen the wonders a built in function can create, lets use the built in zip method \n",
    "\n",
    "start = time.time()\n",
    "\n",
    "df['C']= [divide(a, b) for a, b in zip(df['A'], df['B'])] \n",
    "\n",
    "list_comp_zip = time.time() - start"
   ]
  },
  {
   "cell_type": "code",
   "execution_count": 16,
   "id": "214392d9-ea26-4afe-be88-18f1d714cf77",
   "metadata": {},
   "outputs": [
    {
     "data": {
      "text/plain": [
       "0.1780991554260254"
      ]
     },
     "execution_count": 16,
     "metadata": {},
     "output_type": "execute_result"
    }
   ],
   "source": [
    "list_comp_zip #Not bad this is a small improvement on itertuples with a little less synthax "
   ]
  },
  {
   "cell_type": "code",
   "execution_count": 17,
   "id": "68872a5c-039a-45a6-8717-19cd03b3fa95",
   "metadata": {},
   "outputs": [],
   "source": [
    "#Other built in methods in python are:\n",
    "#list - commonly used for data structer casting \n",
    "#map - map(function, iterables): Executes a specified function for each item in an iterable.\n",
    "#                                The item is sent to the function as a parameter.\n",
    "start = time.time()\n",
    "df['C']= list(map(divide, df['A'], df['B'])) \n",
    "mapping = time.time() - start"
   ]
  },
  {
   "cell_type": "code",
   "execution_count": 18,
   "id": "bcbfed60-6e4d-4098-b318-87ddf3ddcf00",
   "metadata": {},
   "outputs": [
    {
     "data": {
      "text/plain": [
       "0.16810083389282227"
      ]
     },
     "execution_count": 18,
     "metadata": {},
     "output_type": "execute_result"
    }
   ],
   "source": [
    "mapping #comparable speed with less synthax "
   ]
  },
  {
   "cell_type": "code",
   "execution_count": 19,
   "id": "153bfc4a-b061-42c7-97e4-6f346a6b2245",
   "metadata": {},
   "outputs": [],
   "source": [
    "#Lastly we encounter Numpy some functions\n",
    "#The first being vectorize, but how much faster could this be ?\n",
    "start = time.time()\n",
    "df['C']= np.vectorize(divide)(df['A'], df['B']) \n",
    "vecotorizing = time.time() - start"
   ]
  },
  {
   "cell_type": "code",
   "execution_count": 20,
   "id": "393a0fd6-cec4-483c-a6de-772b4e0e8fa5",
   "metadata": {},
   "outputs": [
    {
     "data": {
      "text/plain": [
       "0.09783291816711426"
      ]
     },
     "execution_count": 20,
     "metadata": {},
     "output_type": "execute_result"
    }
   ],
   "source": [
    "vecotorizing # Well definitely an improvement and this is probably one of the best \n",
    "             # ways to apply a custom function, if your data allows it. \n",
    "             # However, I am sure there are alternative ways/cirucumstances you could use other strategies "
   ]
  },
  {
   "cell_type": "code",
   "execution_count": 21,
   "id": "cf20a47b-5ace-4bcf-adfd-aa34249cf96e",
   "metadata": {},
   "outputs": [],
   "source": [
    "# A small example of an alternative strategy is by using Numpy's where function\n",
    "# This function takes a conditional argument\n",
    "start = time.time()\n",
    "df['C']= np.where(df['B'] == 0, 0, df['A'] / df['B'])\n",
    "numpy_cond = time.time() - start"
   ]
  },
  {
   "cell_type": "code",
   "execution_count": 22,
   "id": "414e2be8-4b08-491e-9aee-12a0804d46fc",
   "metadata": {},
   "outputs": [
    {
     "data": {
      "text/plain": [
       "0.0036690235137939453"
      ]
     },
     "execution_count": 22,
     "metadata": {},
     "output_type": "execute_result"
    }
   ],
   "source": [
    "numpy_cond #And well this is about x3 times quicker than vectorizing\n",
    "           #Be aware not every function could be re-written in this manner (np.where)\n",
    "           #This was just an exmaple of an alternative method to the common ones I displayed."
   ]
  },
  {
   "cell_type": "markdown",
   "id": "f46b9b8a-52d6-4ad3-96c9-a0921a912000",
   "metadata": {},
   "source": [
    "### Graphing Results "
   ]
  },
  {
   "cell_type": "code",
   "execution_count": 23,
   "id": "81cc4772-0b90-43e4-85f2-b82c20a886d6",
   "metadata": {},
   "outputs": [],
   "source": [
    "recorded_time = [looping,\n",
    "                 list_comp,\n",
    "                 apply,\n",
    "                 list_comp_itertuples,\n",
    "                 list_comp_zip,\n",
    "                 mapping,\n",
    "                 vecotorizing,\n",
    "                 numpy_cond]"
   ]
  },
  {
   "cell_type": "code",
   "execution_count": 24,
   "id": "6433cd84-3628-4c38-8dca-828ef25b3aff",
   "metadata": {},
   "outputs": [],
   "source": [
    "methods = ['Looping',\n",
    "           'List Comprehension',\n",
    "           'Apply Lambda',\n",
    "           'List Comprehension Itertuples',\n",
    "           'List Comprehension Ziped',\n",
    "           'Mapping',\n",
    "           'Numpy Vecotorizing',\n",
    "           'Numpy Where']"
   ]
  },
  {
   "cell_type": "code",
   "execution_count": 25,
   "id": "d4188a8c-9640-46f6-81b0-277cd4d8f919",
   "metadata": {},
   "outputs": [
    {
     "data": {
      "text/plain": [
       "<AxesSubplot: title={'center': 'Method Run Time Comparision'}, xlabel='method'>"
      ]
     },
     "execution_count": 25,
     "metadata": {},
     "output_type": "execute_result"
    },
    {
     "data": {
      "image/png": "[encoded data removed]",
      "text/plain": [
       "<Figure size 640x480 with 1 Axes>"
      ]
     },
     "metadata": {},
     "output_type": "display_data"
    }
   ],
   "source": [
    "data = [[x,y] for x,y in zip(methods,recorded_time)]\n",
    "pd.DataFrame(data,\n",
    "    columns=['method','run time']\n",
    "            ).set_index('method')['run time'].plot(\n",
    "                kind='bar',\n",
    "                title='Method Run Time Comparision')"
   ]
  },
  {
   "cell_type": "markdown",
   "id": "53481fe6-f1b0-45e1-a71f-f3c346866999",
   "metadata": {},
   "source": [
    "# File Formats "
   ]
  },
  {
   "cell_type": "code",
   "execution_count": 26,
   "id": "1bccdaba-f260-47df-b858-793b226d5675",
   "metadata": {},
   "outputs": [],
   "source": [
    "#Fake Data \n",
    "\n",
    "#Creates fake data, returns a pandas dataframe \n",
    "def get_dataset(size):\n",
    "    df = pd.DataFrame()\n",
    "    df['size'] = np.random.choice(['big','medium','small'], size)\n",
    "    df['age'] = np.random.randint(1, 50, size)\n",
    "    df['team'] = np.random.choice(['red','blue','yellow','green'], size)\n",
    "    df['win'] = np.random.choice(['yes','no'], size)\n",
    "    dates = pd.date_range('2020-01-01', '2022-12-31')\n",
    "    df['date'] = np.random.choice(dates, size)\n",
    "    df['prob'] = np.random.uniform(0, 1, size)\n",
    "    return df\n",
    "\n",
    "#Sets types in a dataframe \n",
    "def set_dtypes(df):\n",
    "    df['size'] = df['size'].astype('category')\n",
    "    df['team'] = df['team'].astype('category')\n",
    "    df['age'] = df['age'].astype('int16')\n",
    "    df['win'] = df['win'].map({'yes':True, 'no': False})\n",
    "    df['date'] = df['date'].astype('datetime64')\n",
    "    df['prob'] = df['prob'].astype('float32')\n",
    "    return df"
   ]
  },
  {
   "cell_type": "code",
   "execution_count": 27,
   "id": "808045d3-8a25-4166-8d94-6ca7109e1c37",
   "metadata": {},
   "outputs": [
    {
     "name": "stdout",
     "output_type": "stream",
     "text": [
      "<class 'pandas.core.frame.DataFrame'>\n",
      "RangeIndex: 1000000 entries, 0 to 999999\n",
      "Data columns (total 6 columns):\n",
      " #   Column  Non-Null Count    Dtype         \n",
      "---  ------  --------------    -----         \n",
      " 0   size    1000000 non-null  object        \n",
      " 1   age     1000000 non-null  int64         \n",
      " 2   team    1000000 non-null  object        \n",
      " 3   win     1000000 non-null  object        \n",
      " 4   date    1000000 non-null  datetime64[ns]\n",
      " 5   prob    1000000 non-null  float64       \n",
      "dtypes: datetime64[ns](1), float64(1), int64(1), object(3)\n",
      "memory usage: 45.8+ MB\n"
     ]
    }
   ],
   "source": [
    "df = get_dataset(1_000_000)\n",
    "df.info()"
   ]
  },
  {
   "cell_type": "code",
   "execution_count": 28,
   "id": "6aaaa9e3-fcf4-4f0b-bee1-0db1a00c230b",
   "metadata": {},
   "outputs": [
    {
     "data": {
      "text/html": [
       "<div>\n",
       "<style scoped>\n",
       "    .dataframe tbody tr th:only-of-type {\n",
       "        vertical-align: middle;\n",
       "    }\n",
       "\n",
       "    .dataframe tbody tr th {\n",
       "        vertical-align: top;\n",
       "    }\n",
       "\n",
       "    .dataframe thead th {\n",
       "        text-align: right;\n",
       "    }\n",
       "</style>\n",
       "<table border=\"1\" class=\"dataframe\">\n",
       "  <thead>\n",
       "    <tr style=\"text-align: right;\">\n",
       "      <th></th>\n",
       "      <th>size</th>\n",
       "      <th>age</th>\n",
       "      <th>team</th>\n",
       "      <th>win</th>\n",
       "      <th>date</th>\n",
       "      <th>prob</th>\n",
       "    </tr>\n",
       "  </thead>\n",
       "  <tbody>\n",
       "    <tr>\n",
       "      <th>0</th>\n",
       "      <td>small</td>\n",
       "      <td>3</td>\n",
       "      <td>yellow</td>\n",
       "      <td>yes</td>\n",
       "      <td>2022-08-03</td>\n",
       "      <td>0.181119</td>\n",
       "    </tr>\n",
       "    <tr>\n",
       "      <th>1</th>\n",
       "      <td>small</td>\n",
       "      <td>19</td>\n",
       "      <td>blue</td>\n",
       "      <td>no</td>\n",
       "      <td>2020-03-11</td>\n",
       "      <td>0.730545</td>\n",
       "    </tr>\n",
       "    <tr>\n",
       "      <th>2</th>\n",
       "      <td>big</td>\n",
       "      <td>34</td>\n",
       "      <td>red</td>\n",
       "      <td>yes</td>\n",
       "      <td>2021-05-15</td>\n",
       "      <td>0.411991</td>\n",
       "    </tr>\n",
       "    <tr>\n",
       "      <th>3</th>\n",
       "      <td>big</td>\n",
       "      <td>43</td>\n",
       "      <td>yellow</td>\n",
       "      <td>no</td>\n",
       "      <td>2021-07-20</td>\n",
       "      <td>0.689724</td>\n",
       "    </tr>\n",
       "    <tr>\n",
       "      <th>4</th>\n",
       "      <td>small</td>\n",
       "      <td>42</td>\n",
       "      <td>blue</td>\n",
       "      <td>no</td>\n",
       "      <td>2021-11-15</td>\n",
       "      <td>0.300918</td>\n",
       "    </tr>\n",
       "    <tr>\n",
       "      <th>...</th>\n",
       "      <td>...</td>\n",
       "      <td>...</td>\n",
       "      <td>...</td>\n",
       "      <td>...</td>\n",
       "      <td>...</td>\n",
       "      <td>...</td>\n",
       "    </tr>\n",
       "    <tr>\n",
       "      <th>999995</th>\n",
       "      <td>big</td>\n",
       "      <td>19</td>\n",
       "      <td>yellow</td>\n",
       "      <td>yes</td>\n",
       "      <td>2022-03-28</td>\n",
       "      <td>0.930575</td>\n",
       "    </tr>\n",
       "    <tr>\n",
       "      <th>999996</th>\n",
       "      <td>small</td>\n",
       "      <td>13</td>\n",
       "      <td>blue</td>\n",
       "      <td>no</td>\n",
       "      <td>2022-08-31</td>\n",
       "      <td>0.979567</td>\n",
       "    </tr>\n",
       "    <tr>\n",
       "      <th>999997</th>\n",
       "      <td>big</td>\n",
       "      <td>42</td>\n",
       "      <td>yellow</td>\n",
       "      <td>no</td>\n",
       "      <td>2021-02-11</td>\n",
       "      <td>0.065674</td>\n",
       "    </tr>\n",
       "    <tr>\n",
       "      <th>999998</th>\n",
       "      <td>big</td>\n",
       "      <td>18</td>\n",
       "      <td>blue</td>\n",
       "      <td>yes</td>\n",
       "      <td>2020-05-18</td>\n",
       "      <td>0.470764</td>\n",
       "    </tr>\n",
       "    <tr>\n",
       "      <th>999999</th>\n",
       "      <td>small</td>\n",
       "      <td>32</td>\n",
       "      <td>yellow</td>\n",
       "      <td>no</td>\n",
       "      <td>2021-06-08</td>\n",
       "      <td>0.445776</td>\n",
       "    </tr>\n",
       "  </tbody>\n",
       "</table>\n",
       "<p>1000000 rows × 6 columns</p>\n",
       "</div>"
      ],
      "text/plain": [
       "         size  age    team  win       date      prob\n",
       "0       small    3  yellow  yes 2022-08-03  0.181119\n",
       "1       small   19    blue   no 2020-03-11  0.730545\n",
       "2         big   34     red  yes 2021-05-15  0.411991\n",
       "3         big   43  yellow   no 2021-07-20  0.689724\n",
       "4       small   42    blue   no 2021-11-15  0.300918\n",
       "...       ...  ...     ...  ...        ...       ...\n",
       "999995    big   19  yellow  yes 2022-03-28  0.930575\n",
       "999996  small   13    blue   no 2022-08-31  0.979567\n",
       "999997    big   42  yellow   no 2021-02-11  0.065674\n",
       "999998    big   18    blue  yes 2020-05-18  0.470764\n",
       "999999  small   32  yellow   no 2021-06-08  0.445776\n",
       "\n",
       "[1000000 rows x 6 columns]"
      ]
     },
     "execution_count": 28,
     "metadata": {},
     "output_type": "execute_result"
    }
   ],
   "source": [
    "df"
   ]
  },
  {
   "cell_type": "markdown",
   "id": "7c6bdf81-c3e6-4f22-bd75-ba874984ad96",
   "metadata": {},
   "source": [
    "### CSV Files"
   ]
  },
  {
   "cell_type": "code",
   "execution_count": 29,
   "id": "f49183c2-6154-4bca-8c6e-640d3f266a01",
   "metadata": {},
   "outputs": [],
   "source": [
    "start = time.time()\n",
    "df.to_csv('test.csv', index=False)\n",
    "csv_write = time.time() - start"
   ]
  },
  {
   "cell_type": "code",
   "execution_count": 30,
   "id": "63e557ab-dc2d-4500-a952-f1dd53e30770",
   "metadata": {},
   "outputs": [
    {
     "name": "stdout",
     "output_type": "stream",
     "text": [
      "<class 'pandas.core.frame.DataFrame'>\n",
      "RangeIndex: 1000000 entries, 0 to 999999\n",
      "Data columns (total 6 columns):\n",
      " #   Column  Non-Null Count    Dtype         \n",
      "---  ------  --------------    -----         \n",
      " 0   size    1000000 non-null  category      \n",
      " 1   age     1000000 non-null  int16         \n",
      " 2   team    1000000 non-null  category      \n",
      " 3   win     1000000 non-null  bool          \n",
      " 4   date    1000000 non-null  datetime64[ns]\n",
      " 5   prob    1000000 non-null  float32       \n",
      "dtypes: bool(1), category(2), datetime64[ns](1), float32(1), int16(1)\n",
      "memory usage: 16.2 MB\n"
     ]
    }
   ],
   "source": [
    "start = time.time()\n",
    "\n",
    "df_csv = pd.read_csv('test.csv')\n",
    "\n",
    "### NOTE: Pandas Dtypes can change when being loaded.\n",
    "### In this example date was changed from datetime to object when being loaded back in\n",
    "### To avoid Dtype errors, create a function to set the Dtypes of your data\n",
    "df_csv = set_dtypes(pd.read_csv('test.csv'))\n",
    "\n",
    "csv_read = time.time() - start\n",
    "df_csv.info()"
   ]
  },
  {
   "cell_type": "markdown",
   "id": "308a7741-342b-4c51-bff4-6bacf51cc984",
   "metadata": {},
   "source": [
    "### Pickle Files"
   ]
  },
  {
   "cell_type": "code",
   "execution_count": 31,
   "id": "842398a2-144e-4beb-b338-e33425f999a4",
   "metadata": {},
   "outputs": [
    {
     "name": "stdout",
     "output_type": "stream",
     "text": [
      "<class 'pandas.core.frame.DataFrame'>\n",
      "RangeIndex: 1000000 entries, 0 to 999999\n",
      "Data columns (total 6 columns):\n",
      " #   Column  Non-Null Count    Dtype         \n",
      "---  ------  --------------    -----         \n",
      " 0   size    1000000 non-null  object        \n",
      " 1   age     1000000 non-null  int64         \n",
      " 2   team    1000000 non-null  object        \n",
      " 3   win     1000000 non-null  object        \n",
      " 4   date    1000000 non-null  datetime64[ns]\n",
      " 5   prob    1000000 non-null  float64       \n",
      "dtypes: datetime64[ns](1), float64(1), int64(1), object(3)\n",
      "memory usage: 45.8+ MB\n"
     ]
    }
   ],
   "source": [
    "start = time.time()\n",
    "df.to_pickle('test.pickle')\n",
    "pickle_write = time.time() - start\n",
    "\n",
    "start = time.time()\n",
    "df_pickle = pd.read_pickle('test.pickle')\n",
    "pickle_read = time.time() - start\n",
    "\n",
    "df_pickle.info()"
   ]
  },
  {
   "cell_type": "markdown",
   "id": "8d7ea2a7-b219-4f8d-8a71-b1faf359db4a",
   "metadata": {},
   "source": [
    "### Parquet Files"
   ]
  },
  {
   "cell_type": "code",
   "execution_count": 32,
   "id": "b7215af2-a86c-4326-aed3-0403cd7546c5",
   "metadata": {},
   "outputs": [
    {
     "name": "stdout",
     "output_type": "stream",
     "text": [
      "<class 'pandas.core.frame.DataFrame'>\n",
      "RangeIndex: 1000000 entries, 0 to 999999\n",
      "Data columns (total 6 columns):\n",
      " #   Column  Non-Null Count    Dtype         \n",
      "---  ------  --------------    -----         \n",
      " 0   size    1000000 non-null  object        \n",
      " 1   age     1000000 non-null  int64         \n",
      " 2   team    1000000 non-null  object        \n",
      " 3   win     1000000 non-null  object        \n",
      " 4   date    1000000 non-null  datetime64[ns]\n",
      " 5   prob    1000000 non-null  float64       \n",
      "dtypes: datetime64[ns](1), float64(1), int64(1), object(3)\n",
      "memory usage: 45.8+ MB\n"
     ]
    }
   ],
   "source": [
    "start = time.time()\n",
    "df.to_parquet('test.parquet')\n",
    "parquet_write = time.time() - start\n",
    "\n",
    "start = time.time()\n",
    "df_parquet = pd.read_parquet('test.parquet')\n",
    "parquet_read = time.time() - start\n",
    "\n",
    "df_parquet.info()"
   ]
  },
  {
   "cell_type": "markdown",
   "id": "bed53004-9ff5-4ffd-a53f-aff716274356",
   "metadata": {},
   "source": [
    "### Feather Files"
   ]
  },
  {
   "cell_type": "code",
   "execution_count": 33,
   "id": "22d19e4c-4406-428d-855c-8fde27f24e64",
   "metadata": {},
   "outputs": [
    {
     "name": "stdout",
     "output_type": "stream",
     "text": [
      "<class 'pandas.core.frame.DataFrame'>\n",
      "RangeIndex: 1000000 entries, 0 to 999999\n",
      "Data columns (total 6 columns):\n",
      " #   Column  Non-Null Count    Dtype         \n",
      "---  ------  --------------    -----         \n",
      " 0   size    1000000 non-null  object        \n",
      " 1   age     1000000 non-null  int64         \n",
      " 2   team    1000000 non-null  object        \n",
      " 3   win     1000000 non-null  object        \n",
      " 4   date    1000000 non-null  datetime64[ns]\n",
      " 5   prob    1000000 non-null  float64       \n",
      "dtypes: datetime64[ns](1), float64(1), int64(1), object(3)\n",
      "memory usage: 45.8+ MB\n"
     ]
    }
   ],
   "source": [
    "start = time.time()\n",
    "df.to_feather('test.feather')\n",
    "feather_write = time.time() - start\n",
    "\n",
    "start = time.time()\n",
    "df_feather = pd.read_feather('test.feather')\n",
    "feather_read = time.time() - start\n",
    "\n",
    "df_feather.info()"
   ]
  },
  {
   "cell_type": "markdown",
   "id": "f0df8add-2fb4-46e8-98a8-0e3aaa39a11b",
   "metadata": {},
   "source": [
    "### File Comparisons"
   ]
  },
  {
   "cell_type": "code",
   "execution_count": 34,
   "id": "8d8a1b33-4701-43e3-9aee-1518e0b1380b",
   "metadata": {},
   "outputs": [
    {
     "name": "stdout",
     "output_type": "stream",
     "text": [
      "94224 -rw-r--r--  1 alexcastel  staff    46M Jan 26 21:48 test.csv\n",
      "87264 -rw-r--r--  1 alexcastel  staff    43M Jan 26 21:48 test.pickle\n",
      "22936 -rw-r--r--  1 alexcastel  staff    11M Jan 26 21:48 test.parquet\n",
      "59688 -rw-r--r--  1 alexcastel  staff    29M Jan 26 21:48 test.feather\n"
     ]
    }
   ],
   "source": [
    "!ls -Gflash test.csv test.pickle test.parquet test.feather"
   ]
  },
  {
   "cell_type": "code",
   "execution_count": 35,
   "id": "efbdb73c-de48-41e2-8047-209106c2523e",
   "metadata": {},
   "outputs": [],
   "source": [
    "read = [csv_read, pickle_read, parquet_read, feather_read]\n",
    "write = [csv_write, pickle_write, parquet_write, feather_write]\n",
    "formats = ['CSV','Pickle','Parquet','Feather']\n",
    "read_data = [[x,y] for x,y in zip(formats,read)]\n",
    "write_data = [[x,y] for x,y in zip(formats,write)]"
   ]
  },
  {
   "cell_type": "code",
   "execution_count": 36,
   "id": "f7523dfe-c295-44e1-8136-c9c8093650d8",
   "metadata": {},
   "outputs": [
    {
     "data": {
      "text/plain": [
       "Text(0, 0.5, 'Seconds')"
      ]
     },
     "execution_count": 36,
     "metadata": {},
     "output_type": "execute_result"
    },
    {
     "data": {
      "image/png": "[encoded data removed]",
      "text/plain": [
       "<Figure size 640x480 with 1 Axes>"
      ]
     },
     "metadata": {},
     "output_type": "display_data"
    }
   ],
   "source": [
    "pd.DataFrame(read_data,\n",
    "    columns=['Format','run time']\n",
    "            ).set_index('Format')['run time'].plot(\n",
    "                kind='bar',\n",
    "                title='Read Speed').set_ylabel(\"Seconds\")"
   ]
  },
  {
   "cell_type": "code",
   "execution_count": 37,
   "id": "ddc176aa-0c04-4c6f-85e6-13190370ca99",
   "metadata": {},
   "outputs": [
    {
     "data": {
      "text/plain": [
       "Text(0, 0.5, 'Seconds')"
      ]
     },
     "execution_count": 37,
     "metadata": {},
     "output_type": "execute_result"
    },
    {
     "data": {
      "image/png": "[encoded data removed]",
      "text/plain": [
       "<Figure size 640x480 with 1 Axes>"
      ]
     },
     "metadata": {},
     "output_type": "display_data"
    }
   ],
   "source": [
    "pd.DataFrame(write_data,\n",
    "    columns=['Format','run time']\n",
    "            ).set_index('Format')['run time'].plot(\n",
    "                kind='bar',\n",
    "                title='Writing Speed').set_ylabel(\"Seconds\")"
   ]
  },
  {
   "cell_type": "markdown",
   "id": "f0341022-4509-4f69-bc48-daec8561fdc2",
   "metadata": {},
   "source": [
    "# TQDM \n",
    "Documentation: https://tqdm.github.io"
   ]
  },
  {
   "cell_type": "code",
   "execution_count": 38,
   "id": "32ab6b64-6cb6-4319-8029-0f77bcceb911",
   "metadata": {},
   "outputs": [
    {
     "name": "stdout",
     "output_type": "stream",
     "text": [
      "Enabling notebook extension jupyter-js-widgets/extension...\n",
      "      - Validating: \u001b[32mOK\u001b[0m\n"
     ]
    }
   ],
   "source": [
    "!jupyter nbextension enable --py widgetsnbextension"
   ]
  },
  {
   "cell_type": "code",
   "execution_count": 39,
   "id": "d7d7bead-55e4-47aa-b146-487e60efe9df",
   "metadata": {},
   "outputs": [
    {
     "name": "stderr",
     "output_type": "stream",
     "text": [
      "100%|███████████████████████████████████████| 1000/1000 [00:11<00:00, 85.62it/s]\n"
     ]
    }
   ],
   "source": [
    "from tqdm import tqdm\n",
    "import time\n",
    "\n",
    "max_val = 1000\n",
    "some_condition = True\n",
    "\n",
    "p = tqdm(total=max_val, disable=False)\n",
    "\n",
    "if some_condition:\n",
    "    for i in range(max_val):\n",
    "        time.sleep(0.01)\n",
    "        p.update(1)\n",
    "    p.close()"
   ]
  },
  {
   "cell_type": "code",
   "execution_count": 40,
   "id": "bccb149c-d294-428c-b297-2c7d5e62910f",
   "metadata": {},
   "outputs": [
    {
     "name": "stderr",
     "output_type": "stream",
     "text": [
      "Doing Something: 100%|██████████████████████| 1000/1000 [00:11<00:00, 85.45it/s]\n"
     ]
    }
   ],
   "source": [
    "from tqdm import tqdm\n",
    "import time\n",
    "\n",
    "class ProgressBar(object):  # Python3+ '(object)' can be omitted\n",
    "    def __init__(self, max_value, disable=True):\n",
    "        self.max_value = max_value\n",
    "        self.disable = disable\n",
    "        self.p = self.pbar()\n",
    "\n",
    "    def pbar(self):\n",
    "        return tqdm(\n",
    "            total=self.max_value,\n",
    "            desc='Doing Something: ',\n",
    "            disable=self.disable\n",
    "        )\n",
    "\n",
    "    def update(self, update_value):\n",
    "        self.p.update(update_value)\n",
    "\n",
    "    def close(self):\n",
    "        self.p.close()\n",
    "\n",
    "\n",
    "max_val = 1000\n",
    "some_condition = True\n",
    "\n",
    "p = ProgressBar(max_value=max_val, disable=False)\n",
    "\n",
    "if some_condition:\n",
    "    for i in range(max_val):\n",
    "        time.sleep(0.01)\n",
    "        p.update(1)\n",
    "    p.close()"
   ]
  },
  {
   "cell_type": "markdown",
   "id": "1a7ef7c2-103d-40ac-ab9d-aa7eb14149e8",
   "metadata": {},
   "source": [
    "# Split-Apply-Combine\n",
    "Recomended Lecture: https://www.youtube.com/watch?v=TjuRnguO62E"
   ]
  },
  {
   "cell_type": "markdown",
   "id": "59b3d897-f6f4-438d-8681-dd194cbba5cb",
   "metadata": {},
   "source": [
    "Short Walkthrough: https://www.youtube.com/watch?v=Acld5O-WUsc"
   ]
  }
 ],
 "metadata": {
  "kernelspec": {
   "display_name": "venv_593",
   "language": "python",
   "name": "venv_593"
  },
  "language_info": {
   "codemirror_mode": {
    "name": "ipython",
    "version": 3
   },
   "file_extension": ".py",
   "mimetype": "text/x-python",
   "name": "python",
   "nbconvert_exporter": "python",
   "pygments_lexer": "ipython3",
   "version": "3.11.1"
  }
 },
 "nbformat": 4,
 "nbformat_minor": 5
}

{
 "cells": [
  {
   "cell_type": "markdown",
   "id": "15073adc",
   "metadata": {},
   "source": [
    "# Python Packages"
   ]
  },
  {
   "cell_type": "markdown",
   "id": "488d68e1",
   "metadata": {},
   "source": [
    "Today we will learn how to convert a python notebook into reusable packages. For the purpose of this demonsration, we will be using one of my previous notebooks. This notebook contains 3 short portions\n",
    "* Data Loading \n",
    "* Algorithm Implentation \n",
    "* Testing & Results "
   ]
  },
  {
   "cell_type": "markdown",
   "id": "09b9b547",
   "metadata": {},
   "source": [
    "### Text Editor\n",
    "\n",
    "VIM (Recommended): https://realpython.com/vim-and-python-a-match-made-in-heaven/\n",
    "\n",
    "Emacs (Personal UNIX Choice): https://wikemacs.org/wiki/Installing_Emacs_on_OS_X"
   ]
  },
  {
   "cell_type": "markdown",
   "id": "a16c9c88",
   "metadata": {},
   "source": [
    "### Data Loading\n",
    "\n",
    "If you choose to reuse a function in different scrips or notebooks, copy & pasting can takeup unnnesesary space. To avoid this, we can create a python package to simply import the function. The function below imports the nessesay data:"
   ]
  },
  {
   "cell_type": "code",
   "execution_count": 1,
   "id": "1912ce58",
   "metadata": {},
   "outputs": [],
   "source": [
    "import os \n",
    "import pandas as pd\n",
    "from urllib.request import urlretrieve \n",
    "\n",
    "URL = 'https://raw.githubusercontent.com/Castellanos96/SIADS593/main/Items.csv'\n",
    "\n",
    "def get_data(filename='Items.csv', url=URL, force_download=False):\n",
    "    if force_download or not os.path.exists(filename):\n",
    "        urlretrieve(URL, filename)\n",
    "    return pd.read_csv('Items.csv',index_col=0)"
   ]
  },
  {
   "cell_type": "code",
   "execution_count": 4,
   "id": "329a4c1f",
   "metadata": {},
   "outputs": [
    {
     "data": {
      "text/html": [
       "<div>\n",
       "<style scoped>\n",
       "    .dataframe tbody tr th:only-of-type {\n",
       "        vertical-align: middle;\n",
       "    }\n",
       "\n",
       "    .dataframe tbody tr th {\n",
       "        vertical-align: top;\n",
       "    }\n",
       "\n",
       "    .dataframe thead th {\n",
       "        text-align: right;\n",
       "    }\n",
       "</style>\n",
       "<table border=\"1\" class=\"dataframe\">\n",
       "  <thead>\n",
       "    <tr style=\"text-align: right;\">\n",
       "      <th></th>\n",
       "      <th>Item</th>\n",
       "      <th>Weight</th>\n",
       "      <th>Survival Points</th>\n",
       "    </tr>\n",
       "  </thead>\n",
       "  <tbody>\n",
       "    <tr>\n",
       "      <th>0</th>\n",
       "      <td>sleeping bag</td>\n",
       "      <td>15</td>\n",
       "      <td>15</td>\n",
       "    </tr>\n",
       "    <tr>\n",
       "      <th>1</th>\n",
       "      <td>rope</td>\n",
       "      <td>3</td>\n",
       "      <td>7</td>\n",
       "    </tr>\n",
       "    <tr>\n",
       "      <th>2</th>\n",
       "      <td>pocket knife</td>\n",
       "      <td>2</td>\n",
       "      <td>10</td>\n",
       "    </tr>\n",
       "    <tr>\n",
       "      <th>3</th>\n",
       "      <td>flashlight</td>\n",
       "      <td>5</td>\n",
       "      <td>5</td>\n",
       "    </tr>\n",
       "    <tr>\n",
       "      <th>4</th>\n",
       "      <td>bottle</td>\n",
       "      <td>9</td>\n",
       "      <td>8</td>\n",
       "    </tr>\n",
       "  </tbody>\n",
       "</table>\n",
       "</div>"
      ],
      "text/plain": [
       "           Item  Weight  Survival Points\n",
       "0  sleeping bag      15               15\n",
       "1          rope       3                7\n",
       "2  pocket knife       2               10\n",
       "3    flashlight       5                5\n",
       "4        bottle       9                8"
      ]
     },
     "execution_count": 4,
     "metadata": {},
     "output_type": "execute_result"
    }
   ],
   "source": [
    "get_data().head()"
   ]
  },
  {
   "cell_type": "markdown",
   "id": "81398b3f",
   "metadata": {},
   "source": [
    "First we can start by making a new directory, we will call it week 3. "
   ]
  },
  {
   "cell_type": "raw",
   "id": "9112eb82",
   "metadata": {},
   "source": [
    "mkdir week3"
   ]
  },
  {
   "cell_type": "markdown",
   "id": "d2f5327c",
   "metadata": {},
   "source": [
    "We can turn a directory into a python package with the following command:"
   ]
  },
  {
   "cell_type": "raw",
   "id": "f35e7d4c",
   "metadata": {},
   "source": [
    "touch week3/__init__.py"
   ]
  },
  {
   "cell_type": "markdown",
   "id": "5ec67f65",
   "metadata": {},
   "source": [
    "If we launch the file, it should be empty. This file is what initializes your module. For now we can leave it blank."
   ]
  },
  {
   "cell_type": "raw",
   "id": "1e0eb1be",
   "metadata": {},
   "source": [
    "emacs week3/__init__.py"
   ]
  },
  {
   "cell_type": "markdown",
   "id": "27fc1d7e",
   "metadata": {},
   "source": [
    "To create our data file, we can use any text editor (strongly recommend vim). After it launches simply copy & paste the code you wish to modulate. "
   ]
  },
  {
   "cell_type": "raw",
   "id": "9bc1fc21",
   "metadata": {},
   "source": [
    "emacs week3/data.py"
   ]
  },
  {
   "cell_type": "markdown",
   "id": "0dc25ca2",
   "metadata": {},
   "source": [
    "After bring pasted and saved, we should be able to call the module as such:"
   ]
  },
  {
   "cell_type": "code",
   "execution_count": 23,
   "id": "a1642f89",
   "metadata": {},
   "outputs": [
    {
     "data": {
      "text/html": [
       "<div>\n",
       "<style scoped>\n",
       "    .dataframe tbody tr th:only-of-type {\n",
       "        vertical-align: middle;\n",
       "    }\n",
       "\n",
       "    .dataframe tbody tr th {\n",
       "        vertical-align: top;\n",
       "    }\n",
       "\n",
       "    .dataframe thead th {\n",
       "        text-align: right;\n",
       "    }\n",
       "</style>\n",
       "<table border=\"1\" class=\"dataframe\">\n",
       "  <thead>\n",
       "    <tr style=\"text-align: right;\">\n",
       "      <th></th>\n",
       "      <th>Item</th>\n",
       "      <th>Weight</th>\n",
       "      <th>Survival Points</th>\n",
       "    </tr>\n",
       "  </thead>\n",
       "  <tbody>\n",
       "    <tr>\n",
       "      <th>0</th>\n",
       "      <td>sleeping bag</td>\n",
       "      <td>15</td>\n",
       "      <td>15</td>\n",
       "    </tr>\n",
       "    <tr>\n",
       "      <th>1</th>\n",
       "      <td>rope</td>\n",
       "      <td>3</td>\n",
       "      <td>7</td>\n",
       "    </tr>\n",
       "    <tr>\n",
       "      <th>2</th>\n",
       "      <td>pocket knife</td>\n",
       "      <td>2</td>\n",
       "      <td>10</td>\n",
       "    </tr>\n",
       "    <tr>\n",
       "      <th>3</th>\n",
       "      <td>flashlight</td>\n",
       "      <td>5</td>\n",
       "      <td>5</td>\n",
       "    </tr>\n",
       "    <tr>\n",
       "      <th>4</th>\n",
       "      <td>bottle</td>\n",
       "      <td>9</td>\n",
       "      <td>8</td>\n",
       "    </tr>\n",
       "  </tbody>\n",
       "</table>\n",
       "</div>"
      ],
      "text/plain": [
       "           Item  Weight  Survival Points\n",
       "0  sleeping bag      15               15\n",
       "1          rope       3                7\n",
       "2  pocket knife       2               10\n",
       "3    flashlight       5                5\n",
       "4        bottle       9                8"
      ]
     },
     "execution_count": 23,
     "metadata": {},
     "output_type": "execute_result"
    }
   ],
   "source": [
    "from data import get_data\n",
    "data = get_data()\n",
    "data.head()"
   ]
  },
  {
   "cell_type": "markdown",
   "id": "8be43bcf",
   "metadata": {},
   "source": [
    "### Algorithm Implementation \n",
    "\n",
    "We can follow the same steps as before with the genetic algorithm class. One small technical difference for this example that I will define the data inside this module. "
   ]
  },
  {
   "cell_type": "code",
   "execution_count": 1,
   "id": "c846cbe2",
   "metadata": {},
   "outputs": [],
   "source": [
    "### Adding our data to feed directly into this module\n",
    "from data import get_data\n",
    "data = get_data()"
   ]
  },
  {
   "cell_type": "raw",
   "id": "5eddd2ca",
   "metadata": {},
   "source": [
    "emacs week3/GA.py "
   ]
  },
  {
   "cell_type": "markdown",
   "id": "d649e709",
   "metadata": {},
   "source": [
    "### Using our Module"
   ]
  },
  {
   "cell_type": "code",
   "execution_count": 2,
   "id": "5240e91e",
   "metadata": {},
   "outputs": [],
   "source": [
    "#importing our module for the Genetic Algorithm \n",
    "from GA import Genetic_Algorithm"
   ]
  },
  {
   "cell_type": "code",
   "execution_count": 3,
   "id": "3987c883",
   "metadata": {},
   "outputs": [],
   "source": [
    "#Provides you with the parameter details\n",
    "#Genetic_Algorithm? \n",
    "#Allows you to see the source code \n",
    "#Genetic_Algorithm??"
   ]
  },
  {
   "cell_type": "code",
   "execution_count": 4,
   "id": "a4f6d1ce",
   "metadata": {},
   "outputs": [
    {
     "name": "stdout",
     "output_type": "stream",
     "text": [
      "Generations = 50 , Average of fitness 1000 Simulations:  46.46415000000019\n"
     ]
    }
   ],
   "source": [
    "### Results of 1000 GA Simulations (50 Generations)\n",
    "simulation_results = [] \n",
    "for x in range(1000):\n",
    "    GA_50_generations = Genetic_Algorithm(print_details = False,number_of_generations=50)\n",
    "    GA_50_generations.adaption()\n",
    "    simulation_results.append(GA_50_generations.fitness_avg_history[len(GA_50_generations.fitness_avg_history)-1])\n",
    "print(\"Generations = 50 , Average of fitness 1000 Simulations: \",sum(simulation_results)/len(simulation_results))"
   ]
  },
  {
   "cell_type": "markdown",
   "id": "4dd9c389",
   "metadata": {},
   "source": [
    "We can start the GitHub upload process from this point. \n",
    "\n",
    "TIP: Use the following command to add fill directories:"
   ]
  },
  {
   "cell_type": "raw",
   "id": "950644f9",
   "metadata": {},
   "source": [
    "git add week3/*.py"
   ]
  },
  {
   "cell_type": "markdown",
   "id": "c206cfb8",
   "metadata": {},
   "source": [
    "### Testing Your Files"
   ]
  },
  {
   "cell_type": "code",
   "execution_count": 6,
   "id": "567d2dcc",
   "metadata": {},
   "outputs": [],
   "source": [
    "import pandas as pd \n",
    "from data import get_data\n",
    "\n",
    "def check_features():\n",
    "    data = get_data()\n",
    "    assert all(data.columns == ['Item','Weight','Survival Points'])\n",
    "    \n",
    "check_features()"
   ]
  },
  {
   "cell_type": "code",
   "execution_count": null,
   "id": "b1957dba",
   "metadata": {},
   "outputs": [],
   "source": []
  },
  {
   "cell_type": "code",
   "execution_count": null,
   "id": "636c0d70",
   "metadata": {},
   "outputs": [],
   "source": []
  },
  {
   "cell_type": "code",
   "execution_count": null,
   "id": "f32ba77c",
   "metadata": {},
   "outputs": [],
   "source": []
  },
  {
   "cell_type": "code",
   "execution_count": null,
   "id": "eda04be7",
   "metadata": {},
   "outputs": [],
   "source": [
    "mkdir week3/test              "
   ]
  },
  {
   "cell_type": "code",
   "execution_count": null,
   "id": "6b4de7ce",
   "metadata": {},
   "outputs": [],
   "source": [
    "emacs week3/tests/test_data.py"
   ]
  },
  {
   "cell_type": "raw",
   "id": "2d87c64f",
   "metadata": {},
   "source": [
    "python -m pytest"
   ]
  }
 ],
 "metadata": {
  "kernelspec": {
   "display_name": "Python 3 (ipykernel)",
   "language": "python",
   "name": "python3"
  },
  "language_info": {
   "codemirror_mode": {
    "name": "ipython",
    "version": 3
   },
   "file_extension": ".py",
   "mimetype": "text/x-python",
   "name": "python",
   "nbconvert_exporter": "python",
   "pygments_lexer": "ipython3",
   "version": "3.9.12"
  }
 },
 "nbformat": 4,
 "nbformat_minor": 5
}

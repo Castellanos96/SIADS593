{
 "cells": [
  {
   "cell_type": "markdown",
   "metadata": {},
   "source": [
    "# Import Tools "
   ]
  },
  {
   "cell_type": "code",
   "execution_count": 1,
   "metadata": {},
   "outputs": [],
   "source": [
    "import numpy as np\n",
    "import pandas as pd\n",
    "import random \n",
    "from random import randint\n",
    "import matplotlib.pyplot as plt"
   ]
  },
  {
   "cell_type": "markdown",
   "metadata": {},
   "source": [
    "# Data Frame"
   ]
  },
  {
   "cell_type": "code",
   "execution_count": 2,
   "metadata": {},
   "outputs": [],
   "source": [
    "import os \n",
    "import pandas as pd\n",
    "from urllib.request import urlretrieve \n",
    "\n",
    "URL = 'https://raw.githubusercontent.com/Castellanos96/SIADS593/main/Items.csv'\n",
    "\n",
    "def get_data(filename='Items.csv', url=URL, force_download=False):\n",
    "    if force_download or not os.path.exists(filename):\n",
    "        urlretrieve(URL, filename)\n",
    "    return pd.read_csv('Items.csv',index_col=0)"
   ]
  },
  {
   "cell_type": "code",
   "execution_count": 3,
   "metadata": {},
   "outputs": [],
   "source": [
    "data = get_data()"
   ]
  },
  {
   "cell_type": "code",
   "execution_count": 4,
   "metadata": {},
   "outputs": [
    {
     "data": {
      "text/html": [
       "<div>\n",
       "<style scoped>\n",
       "    .dataframe tbody tr th:only-of-type {\n",
       "        vertical-align: middle;\n",
       "    }\n",
       "\n",
       "    .dataframe tbody tr th {\n",
       "        vertical-align: top;\n",
       "    }\n",
       "\n",
       "    .dataframe thead th {\n",
       "        text-align: right;\n",
       "    }\n",
       "</style>\n",
       "<table border=\"1\" class=\"dataframe\">\n",
       "  <thead>\n",
       "    <tr style=\"text-align: right;\">\n",
       "      <th></th>\n",
       "      <th>Item</th>\n",
       "      <th>Weight</th>\n",
       "      <th>Survival Points</th>\n",
       "    </tr>\n",
       "  </thead>\n",
       "  <tbody>\n",
       "    <tr>\n",
       "      <th>0</th>\n",
       "      <td>sleeping bag</td>\n",
       "      <td>15</td>\n",
       "      <td>15</td>\n",
       "    </tr>\n",
       "    <tr>\n",
       "      <th>1</th>\n",
       "      <td>rope</td>\n",
       "      <td>3</td>\n",
       "      <td>7</td>\n",
       "    </tr>\n",
       "    <tr>\n",
       "      <th>2</th>\n",
       "      <td>pocket knife</td>\n",
       "      <td>2</td>\n",
       "      <td>10</td>\n",
       "    </tr>\n",
       "    <tr>\n",
       "      <th>3</th>\n",
       "      <td>flashlight</td>\n",
       "      <td>5</td>\n",
       "      <td>5</td>\n",
       "    </tr>\n",
       "    <tr>\n",
       "      <th>4</th>\n",
       "      <td>bottle</td>\n",
       "      <td>9</td>\n",
       "      <td>8</td>\n",
       "    </tr>\n",
       "  </tbody>\n",
       "</table>\n",
       "</div>"
      ],
      "text/plain": [
       "           Item  Weight  Survival Points\n",
       "0  sleeping bag      15               15\n",
       "1          rope       3                7\n",
       "2  pocket knife       2               10\n",
       "3    flashlight       5                5\n",
       "4        bottle       9                8"
      ]
     },
     "execution_count": 4,
     "metadata": {},
     "output_type": "execute_result"
    }
   ],
   "source": [
    "data.head()"
   ]
  },
  {
   "cell_type": "markdown",
   "metadata": {},
   "source": [
    "# Requirment Metrics "
   ]
  },
  {
   "cell_type": "code",
   "execution_count": 5,
   "metadata": {},
   "outputs": [],
   "source": [
    "#PARAMETER 1: Max weight 30lbs or less \n",
    "THRESHOLD = 30\n",
    "\n",
    "#PARAMETER 2: Initial Population is 20 \n",
    "SOLUTIONS_PER_POP = 20\n",
    "\n",
    "#PARAMETER 3: Number of generations\n",
    "NUM_GENERATIONS = 30\n",
    "\n",
    "#PARAMETER 4: Number of generations\n",
    "PARENT_PAIRS = 7 \n",
    "\n",
    "#PARAMETER 5: CROSSOVER at rate 70%\n",
    "CROSSOVER_RATES = 0.7\n",
    "\n",
    "#PARAMETER 6: Mutation Rate = 1%\n",
    "MUTATION_RATE = 0.01"
   ]
  },
  {
   "cell_type": "markdown",
   "metadata": {},
   "source": [
    "# Genetic Algorithm Implementation"
   ]
  },
  {
   "cell_type": "code",
   "execution_count": 6,
   "metadata": {},
   "outputs": [],
   "source": [
    "#Object: Genetic Algorithm \n",
    "#Default Paramenters set to match REQUIRED paramenters\n",
    "#Holds all infomartion and history of generations as attributes \n",
    "class Genetic_Algorithm:\n",
    "    def __init__(self,\n",
    "                 print_details,\n",
    "                 threshold =THRESHOLD,\n",
    "                 population_size =SOLUTIONS_PER_POP,\n",
    "                 number_of_generations = NUM_GENERATIONS,\n",
    "                 parent_pairs = PARENT_PAIRS,\n",
    "                 crossover_rate=CROSSOVER_RATES,\n",
    "                 mutation_rate=MUTATION_RATE,\n",
    "                 weight=data['Weight'],\n",
    "                 value=data['Survival Points'],\n",
    "                 item_idx=[x for x in range(len(data))]):\n",
    "        #Print Deatails Atrribute -> Will Display Fitness History, Graph and Last Generation Info\n",
    "        self.print_details = print_details\n",
    "        \n",
    "        #Initialize Attributes to match paramenters, these will not change in value \n",
    "        self.threshold = threshold \n",
    "        self.population_size = population_size\n",
    "        self.number_of_generations = number_of_generations\n",
    "        self.crossover_rate = crossover_rate\n",
    "        self.mutation_rate = mutation_rate\n",
    "        self.parent_pairs = parent_pairs\n",
    "        \n",
    "        #Set Attributes to match weight and values given, used for fitness calculations\n",
    "        self.weight = weight\n",
    "        self.value = value\n",
    "        self.item_idx = item_idx\n",
    "        \n",
    "        #Dynamic Attributes Initialized as empty list -> Will constantly change throught generations \n",
    "        self.population_matrix = []\n",
    "        self.fitness_array = [[0] * i for i in range(20)]\n",
    "        self.parents = []\n",
    "        self.offsprings = []\n",
    "        \n",
    "        #History Attributes -> Used to store generations information \n",
    "        self.min_fitness = []\n",
    "        self.max_fitness = [] \n",
    "        self.fitness_avg_history = [] \n",
    "        \n",
    "        \n",
    "    #Method: Initializes the initial population randomly \n",
    "    def create_population(self):\n",
    "        #Randomly generate a population matrix(row=specimen,col=gene)\n",
    "        self.population_matrix = [[randint(0, 1) for i in range(len(self.item_idx))] for j in range(self.population_size)]\n",
    "        \n",
    "    #Method: Calculates the fitness of a given population matrix\n",
    "    #Responsibility: Stores results in fitness array \n",
    "    def cal_fitness(self):\n",
    "        \n",
    "        for i in range(len(self.population_matrix)):\n",
    "            #compute weight of current items \n",
    "            curr_weight = sum([a * b for a, b in zip(self.population_matrix[i],self.weight)])\n",
    "            #if weight is less than our threshold: compute and save the fitness score \n",
    "            if curr_weight <= self.threshold:\n",
    "                self.fitness_array[i] = sum([a * b for a, b in zip(self.population_matrix[i],self.value)])\n",
    "            #otherwise: set fitness to zero, rejecting the score in selection \n",
    "            else:\n",
    "                self.fitness_array[i] = 0 \n",
    "                \n",
    "    #Method: Selects top 2N fittest parents; where N is number of parent pairs \n",
    "    #Responsibility: Stores Selected parents in parents attribute \n",
    "    def selection(self):\n",
    "        #reset parents list to empty \n",
    "        self.parents = [] \n",
    "        num_parents = int(self.parent_pairs * 2)\n",
    "        #Create an ascending order list of the INDEX VALUES of the top 2N fittest parents \n",
    "        top_parents = sorted(range(len(self.fitness_array)), key=lambda x: self.fitness_array[x])[-num_parents:]\n",
    "        for item in top_parents:\n",
    "            #Copy by index the N fittest from population matrix into parents list \n",
    "            self.parents.append(self.population_matrix[item])\n",
    "            \n",
    "    #Method: Creates offspring from fitness parent pairs \n",
    "    #Responsibility: Randomly pairs selected parents \n",
    "    #                Creates offpsring from parent pairs at set attribute crossover_rate \n",
    "    #                Stores offsprings generated into offsprings attribute \n",
    "    def crossover(self):\n",
    "        #reset offpsring list to empty \n",
    "        self.offsprings = [] \n",
    "        crossover_rate = int(self.crossover_rate * 10 )\n",
    "        #randomly shuffle parents \n",
    "        r_parents = random.sample(self.parents, len(self.parents))\n",
    "        #Iterate parents list in randomly shuffled pairs \n",
    "        for i,k in zip(r_parents[0::2], r_parents[1::2]):\n",
    "            #create children from pairs at set crossover rate \n",
    "            crossover_index = random.randint(0, 1)\n",
    "            if crossover_index == 0:\n",
    "                child = i[:crossover_rate] + k[crossover_rate:]\n",
    "            else:\n",
    "                child = k[:crossover_rate] + i[crossover_rate:]\n",
    "            #save the children into offsprings list \n",
    "            self.offsprings.append(child)\n",
    "            \n",
    "    #Method: Causes random mutation in children \n",
    "    #Responsibility: Iterates throught all offspring \n",
    "    #                Randomly chooses 1 gene in sequence \n",
    "    #                Randomly generates number 1 through 100: if number is 1 -> Gene chosen is flipped opposite \n",
    "    def mutation(self):\n",
    "        #mutation rate \n",
    "        m_rate = int(self.mutation_rate * 100)\n",
    "        # iterate every child in offspring list\n",
    "        for child in self.offsprings :\n",
    "            # and every gene in each child\n",
    "            for gene in child:\n",
    "                #has a N% chance of mutation (Defuatly set to 1%)\n",
    "                r_mutation = random.randint(1,100)\n",
    "                #if the mutation occurs-> flip current gene to its opposite value \n",
    "                if r_mutation == m_rate:\n",
    "                    if child[gene] == 0:\n",
    "                        child[gene] = 1\n",
    "                    else:\n",
    "                        child[gene] = 0\n",
    "                #otherwise: we leave it alone \n",
    "                else:\n",
    "                    pass\n",
    "            \n",
    "    #Method: Updates the population after offspring process \n",
    "    #Responsibility: Kills off weakest from last generation of parents \n",
    "    #                Creates population matrix from selected parents and offspring \n",
    "    def update_population(self):\n",
    "        #weakest parent dies \n",
    "        self.parents.pop(0)\n",
    "        #combining for elite parents and offspring for new population\n",
    "        new_population = self.parents + self.offsprings \n",
    "        #iterate to replace by index \n",
    "        for i in range(len(new_population)):\n",
    "            #replace the old population with new population\n",
    "            self.population_matrix[i] = new_population[i]\n",
    "        \n",
    "    #Method: Runs all other methods through N given generations \n",
    "    #Responsibility: Initialize Population\n",
    "    #                Computes and stores fitness data \n",
    "    #                Selects parents and creates offspring\n",
    "    #                Updates the population for next generation\n",
    "    \n",
    "    #Method: Displays Historic Fitness Data Throughout the Genenrations \n",
    "    #Responsibility: Visual aid for conclusion \n",
    "    def display_adaption(self):\n",
    "        \n",
    "        plt.plot(list(range(self.number_of_generations)), self.fitness_avg_history, label = 'Mean Fitness')\n",
    "        plt.plot(list(range(self.number_of_generations)), self.min_fitness, label = 'Min Fitness')\n",
    "        plt.plot(list(range(self.number_of_generations)), self.max_fitness, label = 'Max Fitness')\n",
    "        plt.legend()\n",
    "        plt.title('Fitness by Generations')\n",
    "        plt.xlabel('Generations')\n",
    "        plt.ylabel('Fitness')\n",
    "        plt.show()\n",
    "\n",
    "        \n",
    "    def adaption(self):\n",
    "        #creates initial population \n",
    "        self.create_population()\n",
    "        #iterates for every generation \n",
    "        for x in range(self.number_of_generations):\n",
    "            #calculates current population fitness\n",
    "            self.cal_fitness()\n",
    "            \n",
    "            if self.print_details == True:\n",
    "                print(\"Fitness Score of Generation {0}:{1}\".format(x+1,self.fitness_array))\n",
    "            \n",
    "            low = min(self.fitness_array)\n",
    "            self.min_fitness.append(low)\n",
    "            peek = max(self.fitness_array)\n",
    "            self.max_fitness.append(peek)\n",
    "            avg = sum(self.fitness_array)/len(self.fitness_array)\n",
    "            #save the average fitness score of current generation \n",
    "            self.fitness_avg_history.append(avg)\n",
    "            #selects the fittest parents \n",
    "            self.selection()\n",
    "            #crossover to create offspring of selected parents \n",
    "            self.crossover()\n",
    "            #possible mutation of offspring \n",
    "            self.mutation()\n",
    "            #updates the population with fittest specimen \n",
    "            self.update_population()\n",
    "        #If attribute is true -> Print Information ,otherwise: we do not do anything\n",
    "        if self.print_details == True:\n",
    "            print(\"\\n\")\n",
    "            print(\"Last Generation Matrix: \")\n",
    "            for solutions in self.population_matrix:\n",
    "                print(solutions)\n",
    "            print(\"\\n\")\n",
    "            print('Fitness of the last generation:',self.fitness_array)\n",
    "            self.display_adaption()\n",
    "            print(\"Average of fitness  of last gen:\",self.fitness_avg_history[len(self.fitness_avg_history)-1])\n",
    "        else:\n",
    "            pass"
   ]
  },
  {
   "cell_type": "markdown",
   "metadata": {},
   "source": [
    "# Standard GA Results"
   ]
  },
  {
   "cell_type": "code",
   "execution_count": 7,
   "metadata": {},
   "outputs": [
    {
     "name": "stdout",
     "output_type": "stream",
     "text": [
      "Fitness Score of Generation 1:[0, 52, 0, 0, 15, 0, 0, 30, 0, 0, 0, 12, 0, 0, 40, 20, 0, 20, 30, 0]\n",
      "Fitness Score of Generation 2:[0, 0, 0, 0, 0, 12, 15, 20, 20, 30, 30, 40, 52, 0, 17, 40, 0, 35, 0, 25]\n",
      "Fitness Score of Generation 3:[0, 12, 15, 17, 20, 20, 25, 30, 30, 35, 40, 40, 52, 0, 0, 35, 25, 42, 27, 22]\n",
      "Fitness Score of Generation 4:[20, 22, 25, 25, 27, 30, 30, 35, 35, 40, 40, 42, 52, 40, 32, 0, 35, 20, 15, 30]\n",
      "Fitness Score of Generation 5:[27, 30, 30, 30, 32, 35, 35, 35, 40, 40, 40, 42, 52, 30, 40, 32, 45, 27, 52, 35]\n",
      "Fitness Score of Generation 6:[32, 35, 35, 35, 35, 40, 40, 40, 40, 42, 45, 52, 52, 42, 42, 35, 45, 40, 40, 45]\n",
      "Fitness Score of Generation 7:[40, 40, 40, 40, 40, 42, 42, 42, 45, 45, 45, 52, 52, 45, 40, 37, 47, 45, 27, 45]\n",
      "Fitness Score of Generation 8:[40, 42, 42, 42, 45, 45, 45, 45, 45, 45, 47, 52, 52, 0, 42, 42, 40, 40, 45, 45]\n",
      "Fitness Score of Generation 9:[42, 42, 45, 45, 45, 45, 45, 45, 45, 45, 47, 52, 52, 52, 45, 52, 45, 35, 45, 45]\n",
      "Fitness Score of Generation 10:[45, 45, 45, 45, 45, 45, 45, 45, 47, 52, 52, 52, 52, 52, 40, 45, 45, 45, 45, 52]\n",
      "Fitness Score of Generation 11:[45, 45, 45, 45, 45, 45, 47, 52, 52, 52, 52, 52, 52, 45, 52, 45, 52, 52, 45, 52]\n",
      "Fitness Score of Generation 12:[45, 45, 47, 52, 52, 52, 52, 52, 52, 52, 52, 52, 52, 52, 52, 52, 52, 45, 52, 47]\n",
      "Fitness Score of Generation 13:[52, 52, 52, 52, 52, 52, 52, 52, 52, 52, 52, 52, 52, 45, 52, 52, 52, 52, 52, 52]\n",
      "Fitness Score of Generation 14:[52, 52, 52, 52, 52, 52, 52, 52, 52, 52, 52, 52, 52, 52, 52, 52, 52, 37, 52, 52]\n",
      "Fitness Score of Generation 15:[52, 52, 52, 52, 52, 52, 52, 52, 52, 52, 52, 52, 52, 52, 52, 37, 52, 52, 52, 52]\n",
      "Fitness Score of Generation 16:[52, 52, 52, 52, 52, 52, 52, 52, 52, 52, 52, 52, 52, 52, 52, 52, 37, 45, 52, 52]\n",
      "Fitness Score of Generation 17:[52, 52, 52, 52, 52, 52, 52, 52, 52, 52, 52, 52, 52, 45, 52, 45, 52, 52, 52, 52]\n",
      "Fitness Score of Generation 18:[52, 52, 52, 52, 52, 52, 52, 52, 52, 52, 52, 52, 52, 52, 52, 45, 52, 52, 52, 52]\n",
      "Fitness Score of Generation 19:[52, 52, 52, 52, 52, 52, 52, 52, 52, 52, 52, 52, 52, 52, 52, 52, 52, 52, 52, 52]\n",
      "Fitness Score of Generation 20:[52, 52, 52, 52, 52, 52, 52, 52, 52, 52, 52, 52, 52, 45, 52, 52, 52, 52, 52, 52]\n",
      "Fitness Score of Generation 21:[52, 52, 52, 52, 52, 52, 52, 52, 52, 52, 52, 52, 52, 52, 52, 52, 52, 52, 52, 52]\n",
      "Fitness Score of Generation 22:[52, 52, 52, 52, 52, 52, 52, 52, 52, 52, 52, 52, 52, 52, 37, 52, 52, 52, 52, 37]\n",
      "Fitness Score of Generation 23:[52, 52, 52, 52, 52, 52, 52, 52, 52, 52, 52, 52, 52, 52, 52, 52, 52, 52, 52, 37]\n",
      "Fitness Score of Generation 24:[52, 52, 52, 52, 52, 52, 52, 52, 52, 52, 52, 52, 52, 52, 52, 37, 37, 52, 37, 52]\n",
      "Fitness Score of Generation 25:[52, 52, 52, 52, 52, 52, 52, 52, 52, 52, 52, 52, 52, 52, 52, 52, 45, 52, 52, 52]\n",
      "Fitness Score of Generation 26:[52, 52, 52, 52, 52, 52, 52, 52, 52, 52, 52, 52, 52, 52, 52, 52, 52, 52, 52, 52]\n",
      "Fitness Score of Generation 27:[52, 52, 52, 52, 52, 52, 52, 52, 52, 52, 52, 52, 52, 52, 52, 52, 52, 52, 52, 52]\n",
      "Fitness Score of Generation 28:[52, 52, 52, 52, 52, 52, 52, 52, 52, 52, 52, 52, 52, 52, 52, 52, 52, 52, 37, 52]\n",
      "Fitness Score of Generation 29:[52, 52, 52, 52, 52, 52, 52, 52, 52, 52, 52, 52, 52, 52, 52, 52, 52, 52, 52, 52]\n",
      "Fitness Score of Generation 30:[52, 52, 52, 52, 52, 52, 52, 52, 52, 52, 52, 52, 52, 52, 52, 52, 52, 52, 52, 52]\n",
      "\n",
      "\n",
      "Last Generation Matrix: \n",
      "[1, 1, 1, 0, 0, 0, 1, 1, 0, 1]\n",
      "[1, 1, 1, 0, 0, 0, 1, 1, 0, 1]\n",
      "[1, 1, 1, 0, 0, 0, 1, 1, 0, 1]\n",
      "[1, 1, 1, 0, 0, 0, 1, 1, 0, 1]\n",
      "[1, 1, 1, 0, 0, 0, 1, 1, 0, 1]\n",
      "[1, 1, 1, 0, 0, 0, 1, 1, 0, 1]\n",
      "[1, 1, 1, 0, 0, 0, 1, 1, 0, 1]\n",
      "[1, 1, 1, 0, 0, 0, 1, 1, 0, 1]\n",
      "[1, 1, 1, 0, 0, 0, 1, 1, 0, 1]\n",
      "[1, 1, 1, 0, 0, 0, 1, 1, 0, 1]\n",
      "[1, 1, 1, 0, 0, 0, 1, 1, 0, 1]\n",
      "[1, 1, 1, 0, 0, 0, 1, 1, 0, 1]\n",
      "[1, 1, 1, 0, 0, 0, 1, 1, 0, 1]\n",
      "[1, 1, 1, 0, 0, 0, 1, 1, 0, 1]\n",
      "[1, 1, 1, 0, 0, 0, 1, 1, 0, 1]\n",
      "[1, 1, 1, 0, 0, 0, 1, 1, 0, 1]\n",
      "[1, 1, 1, 0, 0, 0, 1, 1, 0, 1]\n",
      "[1, 1, 1, 0, 0, 0, 1, 1, 0, 1]\n",
      "[1, 1, 1, 0, 0, 0, 1, 1, 0, 1]\n",
      "[1, 0, 1, 0, 0, 0, 1, 1, 0, 1]\n",
      "\n",
      "\n",
      "Fitness of the last generation: [52, 52, 52, 52, 52, 52, 52, 52, 52, 52, 52, 52, 52, 52, 52, 52, 52, 52, 52, 52]\n"
     ]
    },
    {
     "data": {
      "image/png": "[encoded data removed]",
      "text/plain": [
       "<Figure size 432x288 with 1 Axes>"
      ]
     },
     "metadata": {
      "needs_background": "light"
     },
     "output_type": "display_data"
    },
    {
     "name": "stdout",
     "output_type": "stream",
     "text": [
      "Average of fitness  of last gen: 52.0\n"
     ]
    }
   ],
   "source": [
    "GA_standard = Genetic_Algorithm(print_details = True)\n",
    "GA_standard.adaption()"
   ]
  },
  {
   "cell_type": "markdown",
   "metadata": {},
   "source": [
    "# Results of 1000 GA Simulations (30 Generations)"
   ]
  },
  {
   "cell_type": "code",
   "execution_count": 8,
   "metadata": {},
   "outputs": [
    {
     "name": "stdout",
     "output_type": "stream",
     "text": [
      "Generations = 30 , Average of fitness 1000 Simulations:  46.37730000000017\n"
     ]
    }
   ],
   "source": [
    "simulation_results = [] \n",
    "for x in range(1000):\n",
    "    GA_standard = Genetic_Algorithm(print_details = False)\n",
    "    GA_standard.adaption()\n",
    "    simulation_results.append(GA_standard.fitness_avg_history[len(GA_standard.fitness_avg_history)-1])\n",
    "print(\"Generations = 30 , Average of fitness 1000 Simulations: \",sum(simulation_results)/len(simulation_results))"
   ]
  },
  {
   "cell_type": "markdown",
   "metadata": {},
   "source": [
    "# Results of 1000 GA Simulations (40 Generations)"
   ]
  },
  {
   "cell_type": "code",
   "execution_count": 9,
   "metadata": {},
   "outputs": [
    {
     "name": "stdout",
     "output_type": "stream",
     "text": [
      "Generations = 40 , Average of fitness 1000 Simulations:  46.78650000000021\n"
     ]
    }
   ],
   "source": [
    "simulation_results = [] \n",
    "for x in range(1000):\n",
    "    GA_40_generations = Genetic_Algorithm(print_details = False,number_of_generations=40)\n",
    "    GA_40_generations.adaption()\n",
    "    simulation_results.append(GA_40_generations.fitness_avg_history[len(GA_40_generations.fitness_avg_history)-1])\n",
    "print(\"Generations = 40 , Average of fitness 1000 Simulations: \",sum(simulation_results)/len(simulation_results))"
   ]
  },
  {
   "cell_type": "markdown",
   "metadata": {},
   "source": [
    "# Results of 1000 GA Simulations (50 Generations)"
   ]
  },
  {
   "cell_type": "code",
   "execution_count": 10,
   "metadata": {},
   "outputs": [
    {
     "name": "stdout",
     "output_type": "stream",
     "text": [
      "Generations = 50 , Average of fitness 1000 Simulations:  46.39855000000017\n"
     ]
    }
   ],
   "source": [
    "simulation_results = [] \n",
    "for x in range(1000):\n",
    "    GA_50_generations = Genetic_Algorithm(print_details = False,number_of_generations=50)\n",
    "    GA_50_generations.adaption()\n",
    "    simulation_results.append(GA_50_generations.fitness_avg_history[len(GA_50_generations.fitness_avg_history)-1])\n",
    "print(\"Generations = 50 , Average of fitness 1000 Simulations: \",sum(simulation_results)/len(simulation_results))"
   ]
  },
  {
   "cell_type": "markdown",
   "metadata": {},
   "source": [
    "# Results of 1000 GA Simulations (60 Generations)"
   ]
  },
  {
   "cell_type": "code",
   "execution_count": null,
   "metadata": {},
   "outputs": [],
   "source": [
    "simulation_results = [] \n",
    "for x in range(1000):\n",
    "    GA_60_generations = Genetic_Algorithm(print_details = False,number_of_generations=60)\n",
    "    GA_60_generations.adaption()\n",
    "    simulation_results.append(GA_60_generations.fitness_avg_history[len(GA_60_generations.fitness_avg_history)-1])\n",
    "print(\"Generations = 60 , Average of fitness 1000 Simulations: \",sum(simulation_results)/len(simulation_results))"
   ]
  },
  {
   "cell_type": "markdown",
   "metadata": {},
   "source": [
    "# Results of 1000 GA Simulations (100 Generations)"
   ]
  },
  {
   "cell_type": "code",
   "execution_count": null,
   "metadata": {},
   "outputs": [],
   "source": [
    "simulation_results = [] \n",
    "for x in range(1000):\n",
    "    GA_100_generations = Genetic_Algorithm(print_details = False,number_of_generations=100)\n",
    "    GA_100_generations.adaption()\n",
    "    simulation_results.append(GA_100_generations.fitness_avg_history[len(GA_100_generations.fitness_avg_history)-1])\n",
    "print(\"Generations = 100 , Average of fitness 1000 Simulations: \",sum(simulation_results)/len(simulation_results))"
   ]
  },
  {
   "cell_type": "code",
   "execution_count": null,
   "metadata": {},
   "outputs": [],
   "source": []
  }
 ],
 "metadata": {
  "kernelspec": {
   "display_name": "Python 3 (ipykernel)",
   "language": "python",
   "name": "python3"
  },
  "language_info": {
   "codemirror_mode": {
    "name": "ipython",
    "version": 3
   },
   "file_extension": ".py",
   "mimetype": "text/x-python",
   "name": "python",
   "nbconvert_exporter": "python",
   "pygments_lexer": "ipython3",
   "version": "3.9.12"
  }
 },
 "nbformat": 4,
 "nbformat_minor": 4
}
